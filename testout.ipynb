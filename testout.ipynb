{
 "cells": [
  {
   "cell_type": "code",
   "execution_count": 1,
   "metadata": {},
   "outputs": [],
   "source": [
    "import requests\n",
    "from bs4 import BeautifulSoup as bf"
   ]
  },
  {
   "cell_type": "code",
   "execution_count": 2,
   "metadata": {},
   "outputs": [],
   "source": [
    "headers = {\"User-Agent\":\"Mozilla/5.0 (X11; Ubuntu; Linux x86_64; rv:95.0) Gecko/20100101 Firefox/95.0\"}"
   ]
  },
  {
   "cell_type": "code",
   "execution_count": 3,
   "metadata": {},
   "outputs": [],
   "source": [
    "base_url = \"https://www.fakepersongenerator.com\"\n",
    "url = \"https://www.fakepersongenerator.com/Index/generate/gender/male/age/22/state/CO\""
   ]
  },
  {
   "cell_type": "code",
   "execution_count": 4,
   "metadata": {},
   "outputs": [],
   "source": [
    "req = requests.get(url=url, headers=headers).text"
   ]
  },
  {
   "cell_type": "code",
   "execution_count": 5,
   "metadata": {},
   "outputs": [],
   "source": [
    "frame  = bf(req, \"html5lib\").find(\"div\",class_=\"frame-1\")"
   ]
  },
  {
   "cell_type": "code",
   "execution_count": 27,
   "metadata": {},
   "outputs": [],
   "source": [
    "db = \"######## Fake person ########\\n\\n\"\n",
    "name = frame.find(\"div\",class_=\"col-md-4 col-sm-6 col-xs-12\").text.replace(\"\\xa0\",\" \")\n",
    "db += f'Name: {name}\\n'\n",
    "for item in frame.find(\"div\",class_=\"col-md-8 col-sm-6 col-xs-12\").find_all(\"p\"):\n",
    "    db += f\"{item.text.strip()}\\n\""
   ]
  },
  {
   "cell_type": "code",
   "execution_count": 33,
   "metadata": {},
   "outputs": [],
   "source": [
    "base_filename = name.replace(\" \",\"_\")\n",
    "img_url = base_url + frame.find(\"div\",class_=\"col-md-4 col-sm-6 col-xs-12\").find(\"img\")[\"src\"]\n",
    "with open(f\"{base_filename}.jpg\",\"wb\") as file:\n",
    "    file.write(requests.get(url=img_url, headers=headers).content)"
   ]
  },
  {
   "cell_type": "markdown",
   "metadata": {},
   "source": [
    "long_infos = frame.find_all(\"div\",class_=\"row no-margin\")\n",
    "left = long_infos[1].find_all(\"div\", class_=\"info-title\")\n",
    "right = long_infos[1].find_all(\"div\", class_=\"info-detail\")\n",
    "for l,r in zip(left,right):\n",
    "    try:\n",
    "        print(f\"{l.text}: {r.find('input')['value']}\")\n",
    "    except TypeError:\n",
    "        try:\n",
    "            temp = \"\\n\".join([i.text for i in r.find(\"p\").contents if i.text])\n",
    "            print(f\"{l.text}: {temp}\")\n",
    "        except:\n",
    "            continue"
   ]
  },
  {
   "cell_type": "code",
   "execution_count": 28,
   "metadata": {},
   "outputs": [],
   "source": [
    "headings = []\n",
    "for h3 in frame.find_all(\"h3\"):\n",
    "    headings.append(h3.text.strip())\n",
    "long_infos = frame.find_all(\"div\",class_=\"row no-margin\")\n",
    "for block in long_infos:\n",
    "    if block.find(\"div\", class_=\"info-title\"):\n",
    "        db += f\"\\n########  {headings.pop(0)} ########\\n\"\n",
    "        left = block.find_all(\"div\", class_=\"info-title\")\n",
    "        right = block.find_all(\"div\", class_=\"info-detail\")\n",
    "        for l,r in zip(left,right):\n",
    "            try:\n",
    "                db += f\"\\n{l.text}: {r.find('input')['value']}\"\n",
    "            except TypeError:\n",
    "                try:\n",
    "                    temp = \"\\n\".join([i.text for i in r.find(\"p\").contents if i.text])\n",
    "                    db += f\"\\n{l.text}: {temp}\"\n",
    "                except:\n",
    "                    continue\n",
    "        db += \"\\n\""
   ]
  },
  {
   "cell_type": "code",
   "execution_count": 34,
   "metadata": {},
   "outputs": [],
   "source": [
    "with open(f\"{base_filename}.txt\",\"w\") as file:\n",
    "    file.write(db)"
   ]
  },
  {
   "cell_type": "code",
   "execution_count": 35,
   "metadata": {},
   "outputs": [],
   "source": [
    "frame2 = bf(req,\"html5lib\")"
   ]
  },
  {
   "cell_type": "code",
   "execution_count": 82,
   "metadata": {},
   "outputs": [],
   "source": [
    "import pickle"
   ]
  },
  {
   "cell_type": "code",
   "execution_count": 67,
   "metadata": {},
   "outputs": [],
   "source": [
    "selections = {}\n",
    "for item in frame2.find(\"form\").find_all('p')[:-2]:\n",
    "    selections[item.find(\"span\").text.replace(\":\",\"\")] = [i.text for i in item.find_all(\"option\")]"
   ]
  },
  {
   "cell_type": "code",
   "execution_count": 80,
   "metadata": {},
   "outputs": [],
   "source": [
    "state_abbr = {\n",
    "  'Alabama': 'AL',\n",
    "  'Alaska': 'AK',\n",
    "  'American Samoa': 'AS',\n",
    "  'Arizona': 'AZ',\n",
    "  'Arkansas': 'AR',\n",
    "  'California': 'CA',\n",
    "  'Colorado': 'CO',\n",
    "  'Connecticut': 'CT',\n",
    "  'Delaware': 'DE',\n",
    "  'District of Columbia': 'DC',\n",
    "  'Federated States Of Micronesia': 'FM',\n",
    "  'Florida': 'FL',\n",
    "  'Georgia': 'GA',\n",
    "  'Guam': 'GU',\n",
    "  'Hawaii': 'HI',\n",
    "  'Idaho': 'ID',\n",
    "  'Illinois': 'IL',\n",
    "  'Indiana': 'IN',\n",
    "  'Iowa': 'IA',\n",
    "  'Kansas': 'KS',\n",
    "  'Kentucky': 'KY',\n",
    "  'Louisiana': 'LA',\n",
    "  'Maine': 'ME',\n",
    "  'Marshall Islands': 'MH',\n",
    "  'Maryland': 'MD',\n",
    "  'Massachusetts': 'MA',\n",
    "  'Michigan': 'MI',\n",
    "  'Minnesota': 'MN',\n",
    "  'Mississippi': 'MS',\n",
    "  'Missouri': 'MO',\n",
    "  'Montana': 'MT',\n",
    "  'Nebraska': 'NE',\n",
    "  'Nevada': 'NV',\n",
    "  'New Hampshire': 'NH',\n",
    "  'New Jersey': 'NJ',\n",
    "  'New Mexico': 'NM',\n",
    "  'New York': 'NY',\n",
    "  'North Carolina': 'NC',\n",
    "  'North Dakota': 'ND',\n",
    "  'Northern Mariana Islands': 'MP',\n",
    "  'Ohio': 'OH',\n",
    "  'Oklahoma': 'OK',\n",
    "  'Oregon': 'OR',\n",
    "  'Palau': 'PW',\n",
    "  'Pennsylvania': 'PA',\n",
    "  'Puerto Rico': 'PR',\n",
    "  'Rhode Island': 'RI',\n",
    "  'South Carolina': 'SC',\n",
    "  'South Dakota': 'SD',\n",
    "  'Tennessee': 'TN',\n",
    "  'Texas': 'TX',\n",
    "  'Utah': 'UT',\n",
    "  'Vermont': 'VT',\n",
    "  'Virgin Islands': 'VI',\n",
    "  'Virginia': 'VA',\n",
    "  'Washington': 'WA',\n",
    "  'West Virginia': 'WV',\n",
    "  'Wisconsin': 'WI',\n",
    "  'Wyoming': 'WY'\n",
    "  }"
   ]
  },
  {
   "cell_type": "code",
   "execution_count": 84,
   "metadata": {},
   "outputs": [],
   "source": [
    "with open(\"selections.pkl\", \"wb\") as file:\n",
    "    pickle.dump(selections,file)"
   ]
  },
  {
   "cell_type": "code",
   "execution_count": 85,
   "metadata": {},
   "outputs": [],
   "source": [
    "with open(\"state_abbr.pkl\", \"wb\") as file:\n",
    "    pickle.dump(state_abbr,file)"
   ]
  },
  {
   "cell_type": "code",
   "execution_count": 6,
   "metadata": {},
   "outputs": [],
   "source": [
    "long_infos = frame.find_all(\"div\",class_=\"row no-margin\")"
   ]
  },
  {
   "cell_type": "code",
   "execution_count": 23,
   "metadata": {},
   "outputs": [
    {
     "data": {
      "text/plain": [
       "<div class=\"info-detail\"><p><a href=\"https://www.temporary-mail.net/\" id=\"fake-email\" target=\"_blank\"></a><br/><small><i>This is a real email address. Click <a href=\"https://www.temporary-mail.net/\" target=\"_blank\">here</a> to receive emails.</i></small></p></div>"
      ]
     },
     "execution_count": 23,
     "metadata": {},
     "output_type": "execute_result"
    }
   ],
   "source": [
    "long_infos[6].find_all(class_=\"info-detail\")[3]"
   ]
  },
  {
   "cell_type": "code",
   "execution_count": 16,
   "metadata": {},
   "outputs": [
    {
     "data": {
      "text/plain": [
       "'fermin\\nUsername Generator'"
      ]
     },
     "execution_count": 16,
     "metadata": {},
     "output_type": "execute_result"
    }
   ],
   "source": [
    "\"\\n\".join([i.text for i in long_infos[6].find_all(class_=\"info-detail\")[0].find(\"p\").contents if i.text])"
   ]
  },
  {
   "cell_type": "code",
   "execution_count": null,
   "metadata": {},
   "outputs": [],
   "source": [
    "selections = \n",
    "with open(\"selections.pkl\", \"rb\") as file:\n",
    "    pickle.load()"
   ]
  }
 ],
 "metadata": {
  "interpreter": {
   "hash": "31f2aee4e71d21fbe5cf8b01ff0e069b9275f58929596ceb00d14d90e3e16cd6"
  },
  "kernelspec": {
   "display_name": "Python 3.8.10 64-bit",
   "language": "python",
   "name": "python3"
  },
  "language_info": {
   "codemirror_mode": {
    "name": "ipython",
    "version": 3
   },
   "file_extension": ".py",
   "mimetype": "text/x-python",
   "name": "python",
   "nbconvert_exporter": "python",
   "pygments_lexer": "ipython3",
   "version": "3.8.10"
  },
  "orig_nbformat": 4
 },
 "nbformat": 4,
 "nbformat_minor": 2
}
